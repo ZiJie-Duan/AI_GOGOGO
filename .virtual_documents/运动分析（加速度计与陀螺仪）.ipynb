import os


# 获取当前工作目录
current_directory = os.getcwd()
print(current_directory)



entries = os.listdir('.')
print(entries)





import tensorflow as tf
print("Num GPUs Available: ", len(tf.config.list_physical_devices('GPU')))





import time
for i in range(10):
    print(i)
    time.sleep(0.2)


print("hh")



