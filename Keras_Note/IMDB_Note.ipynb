{
 "cells": [
  {
   "cell_type": "code",
   "execution_count": 3,
   "id": "89a34562-1387-477f-a685-e5d334665b1d",
   "metadata": {},
   "outputs": [],
   "source": [
    "from tensorflow.keras.datasets import imdb\n",
    "import numpy as np\n",
    "from tensorflow import keras\n",
    "from tensorflow.keras import layers\n",
    "import matplotlib.pyplot as plt"
   ]
  },
  {
   "cell_type": "code",
   "execution_count": null,
   "id": "02399c07-998c-4cf0-ac0b-11ea40d3466d",
   "metadata": {},
   "outputs": [],
   "source": []
  },
  {
   "cell_type": "code",
   "execution_count": 4,
   "id": "693dd390-29be-4913-92c4-b2baa85fd901",
   "metadata": {},
   "outputs": [],
   "source": [
    "(train_data, train_labels), (test_data, test_labels) = imdb.load_data(num_words=10000)\n",
    "\n",
    "word_index = imdb.get_word_index()\n",
    "reverse_word_index = dict(\n",
    " [(value, key) for (key, value) in word_index.items()])"
   ]
  },
  {
   "cell_type": "code",
   "execution_count": 5,
   "id": "013ec169-90f9-4525-8a71-6a49ffe51ff0",
   "metadata": {},
   "outputs": [],
   "source": [
    "def translate(data):\n",
    "    decoded_review = \" \".join(\n",
    "     [reverse_word_index.get(i - 3, \"?\") for i in data])\n",
    "    return decoded_review\n",
    "    "
   ]
  },
  {
   "cell_type": "code",
   "execution_count": 6,
   "id": "57477521-69c6-42f7-b1ae-49a86e35a873",
   "metadata": {},
   "outputs": [],
   "source": [
    "def vectorize_sequences(sequences, dimension=10000):\n",
    "    result = np.zeros((len(sequences),dimension))\n",
    "    for i in range(len(sequences)):\n",
    "        for j in sequences[i]:\n",
    "            result[i][j] = 1\n",
    "    return result"
   ]
  },
  {
   "cell_type": "code",
   "execution_count": null,
   "id": "f14a5d84-aff3-4358-8047-9cf6f2d2aa62",
   "metadata": {},
   "outputs": [],
   "source": []
  },
  {
   "cell_type": "code",
   "execution_count": 7,
   "id": "a383d5fe-47da-4515-9c51-afaf401a0c38",
   "metadata": {},
   "outputs": [],
   "source": [
    "x_train = vectorize_sequences(train_data)\n",
    "x_test = vectorize_sequences(test_data)"
   ]
  },
  {
   "cell_type": "code",
   "execution_count": 8,
   "id": "52a6ec4e-c922-4577-a6d0-b520e70782c9",
   "metadata": {},
   "outputs": [],
   "source": [
    "y_train = np.asarray(train_labels).astype(\"float32\")\n",
    "y_test = np.asarray(test_labels).astype(\"float32\")"
   ]
  },
  {
   "cell_type": "code",
   "execution_count": null,
   "id": "e131ebb1-c569-497b-b220-6757fcb1247a",
   "metadata": {},
   "outputs": [],
   "source": []
  },
  {
   "cell_type": "code",
   "execution_count": 9,
   "id": "c733f418-2514-4c22-913c-a34563b12593",
   "metadata": {},
   "outputs": [],
   "source": [
    "model = keras.Sequential([\n",
    "    layers.Dense(18, activation=\"relu\"),\n",
    "    layers.Dense(10, activation=\"relu\"),\n",
    "    layers.Dense(1, activation=\"sigmoid\")\n",
    "])"
   ]
  },
  {
   "cell_type": "code",
   "execution_count": 10,
   "id": "8500cbb6-be0a-4eb4-a769-4a9ef790656a",
   "metadata": {},
   "outputs": [],
   "source": [
    "model.compile(optimizer=\"rmsprop\",\n",
    " loss=\"binary_crossentropy\",\n",
    " metrics=[\"accuracy\"])"
   ]
  },
  {
   "cell_type": "code",
   "execution_count": null,
   "id": "9259b7d0-eaf0-44f2-8f0e-3947f0488440",
   "metadata": {},
   "outputs": [],
   "source": []
  },
  {
   "cell_type": "code",
   "execution_count": 11,
   "id": "564d98c5-7470-46f6-81bf-bf6a2c1bebce",
   "metadata": {},
   "outputs": [],
   "source": [
    "x_val = x_train[:10000]\n",
    "partial_x_train = x_train[10000:]\n",
    "y_val = y_train[:10000]\n",
    "partial_y_train = y_train[10000:]"
   ]
  },
  {
   "cell_type": "code",
   "execution_count": null,
   "id": "a5e578c5-6a52-4e0e-bfc8-f22d7b5734dc",
   "metadata": {},
   "outputs": [],
   "source": []
  },
  {
   "cell_type": "code",
   "execution_count": 12,
   "id": "86eb7d78-d604-47a6-a2ad-8348f85c0dad",
   "metadata": {},
   "outputs": [
    {
     "name": "stdout",
     "output_type": "stream",
     "text": [
      "Epoch 1/10\n",
      "30/30 [==============================] - 1s 20ms/step - loss: 0.5271 - accuracy: 0.7863 - val_loss: 0.4050 - val_accuracy: 0.8694\n",
      "Epoch 2/10\n",
      "30/30 [==============================] - 0s 10ms/step - loss: 0.3219 - accuracy: 0.9005 - val_loss: 0.3105 - val_accuracy: 0.8873\n",
      "Epoch 3/10\n",
      "30/30 [==============================] - 0s 10ms/step - loss: 0.2320 - accuracy: 0.9257 - val_loss: 0.2871 - val_accuracy: 0.8857\n",
      "Epoch 4/10\n",
      "30/30 [==============================] - 0s 10ms/step - loss: 0.1818 - accuracy: 0.9403 - val_loss: 0.2793 - val_accuracy: 0.8868\n",
      "Epoch 5/10\n",
      "30/30 [==============================] - 0s 10ms/step - loss: 0.1496 - accuracy: 0.9498 - val_loss: 0.2860 - val_accuracy: 0.8854\n",
      "Epoch 6/10\n",
      "30/30 [==============================] - 0s 10ms/step - loss: 0.1217 - accuracy: 0.9631 - val_loss: 0.3105 - val_accuracy: 0.8788\n",
      "Epoch 7/10\n",
      "30/30 [==============================] - 0s 10ms/step - loss: 0.1029 - accuracy: 0.9674 - val_loss: 0.3284 - val_accuracy: 0.8790\n",
      "Epoch 8/10\n",
      "30/30 [==============================] - 0s 10ms/step - loss: 0.0841 - accuracy: 0.9747 - val_loss: 0.3225 - val_accuracy: 0.8837\n",
      "Epoch 9/10\n",
      "30/30 [==============================] - 0s 10ms/step - loss: 0.0693 - accuracy: 0.9811 - val_loss: 0.3507 - val_accuracy: 0.8774\n",
      "Epoch 10/10\n",
      "30/30 [==============================] - 0s 9ms/step - loss: 0.0566 - accuracy: 0.9854 - val_loss: 0.4236 - val_accuracy: 0.8669\n"
     ]
    }
   ],
   "source": [
    "history = model.fit(\n",
    "    partial_x_train,\n",
    "    partial_y_train,\n",
    "    epochs=10,\n",
    "    batch_size=512,\n",
    "    validation_data=(x_val, y_val))"
   ]
  },
  {
   "cell_type": "code",
   "execution_count": 13,
   "id": "fc0c0468-5f5e-4ec2-8cc6-32f46fd2127e",
   "metadata": {},
   "outputs": [
    {
     "data": {
      "text/plain": [
       "dict_keys(['loss', 'accuracy', 'val_loss', 'val_accuracy'])"
      ]
     },
     "execution_count": 13,
     "metadata": {},
     "output_type": "execute_result"
    }
   ],
   "source": [
    "history_dict = history.history\n",
    "history_dict.keys()"
   ]
  },
  {
   "cell_type": "code",
   "execution_count": 14,
   "id": "329b16cb-36e5-4f56-b95a-bbe5380787c0",
   "metadata": {},
   "outputs": [
    {
     "data": {
      "image/png": "[encoded data removed]",
      "text/plain": [
       "<Figure size 640x480 with 1 Axes>"
      ]
     },
     "metadata": {},
     "output_type": "display_data"
    }
   ],
   "source": [
    "loss_values = history_dict[\"loss\"]\n",
    "val_loss_values = history_dict[\"val_loss\"]\n",
    "epochs = range(1, len(loss_values) + 1)\n",
    "plt.plot(epochs, loss_values, \"bo\", label=\"Training loss\")\n",
    "plt.plot(epochs, val_loss_values, \"b\", label=\"Validation loss\")\n",
    "plt.title(\"Training and validation loss\")\n",
    "plt.xlabel(\"Epochs\")\n",
    "plt.ylabel(\"Loss\")\n",
    "plt.legend()\n",
    "plt.show()"
   ]
  },
  {
   "cell_type": "code",
   "execution_count": 15,
   "id": "3f0c7588-eb92-4e45-a6de-9821e6bcbaaf",
   "metadata": {},
   "outputs": [
    {
     "data": {
      "image/png": "[encoded data removed]",
      "text/plain": [
       "<Figure size 640x480 with 1 Axes>"
      ]
     },
     "metadata": {},
     "output_type": "display_data"
    }
   ],
   "source": [
    "acc = history_dict[\"accuracy\"]\n",
    "val_acc = history_dict[\"val_accuracy\"]\n",
    "plt.plot(epochs, acc, \"bo\", label=\"Training acc\")\n",
    "plt.plot(epochs, val_acc, \"b\", label=\"Validation acc\")\n",
    "plt.title(\"Training and validation accuracy\")\n",
    "plt.xlabel(\"Epochs\")\n",
    "plt.ylabel(\"Accuracy\")\n",
    "plt.legend()\n",
    "plt.show()"
   ]
  },
  {
   "cell_type": "code",
   "execution_count": null,
   "id": "30a38cb2-f7b2-47cf-83c3-e226290736ba",
   "metadata": {},
   "outputs": [],
   "source": []
  },
  {
   "cell_type": "code",
   "execution_count": 16,
   "id": "8fe74717-6328-475c-8ce7-40d50ee8a5a8",
   "metadata": {},
   "outputs": [
    {
     "name": "stdout",
     "output_type": "stream",
     "text": [
      "782/782 [==============================] - 1s 1ms/step - loss: 0.4465 - accuracy: 0.8562\n"
     ]
    }
   ],
   "source": [
    "results = model.evaluate(x_test, y_test)"
   ]
  },
  {
   "cell_type": "code",
   "execution_count": 17,
   "id": "52fb7d4d-5b58-4169-bf72-592b00d8bda9",
   "metadata": {},
   "outputs": [
    {
     "data": {
      "text/plain": [
       "[0.44654491543769836, 0.8562399744987488]"
      ]
     },
     "execution_count": 17,
     "metadata": {},
     "output_type": "execute_result"
    }
   ],
   "source": [
    "results"
   ]
  },
  {
   "cell_type": "code",
   "execution_count": 18,
   "id": "666d1c06-9b28-4d05-a777-ef31d162ade0",
   "metadata": {},
   "outputs": [
    {
     "data": {
      "text/plain": [
       "array([[0.14696756],\n",
       "       [0.99991655],\n",
       "       [0.99691135],\n",
       "       ...,\n",
       "       [0.03904158],\n",
       "       [0.1073586 ],\n",
       "       [0.9022063 ]], dtype=float32)"
      ]
     },
     "execution_count": 18,
     "metadata": {},
     "output_type": "execute_result"
    }
   ],
   "source": [
    "model.predict(x_test)"
   ]
  },
  {
   "cell_type": "code",
   "execution_count": null,
   "id": "9aca59dc-8692-4888-b835-26c49b5b9b50",
   "metadata": {},
   "outputs": [],
   "source": []
  },
  {
   "cell_type": "code",
   "execution_count": null,
   "id": "998946c7-2a99-4d02-bf2b-283bee01e8b3",
   "metadata": {},
   "outputs": [],
   "source": []
  },
  {
   "cell_type": "code",
   "execution_count": null,
   "id": "67684e58-cf82-4966-85ed-3e4e5d055f51",
   "metadata": {},
   "outputs": [],
   "source": []
  },
  {
   "cell_type": "code",
   "execution_count": null,
   "id": "f66043d3-33c7-40f9-8790-13076af634f4",
   "metadata": {},
   "outputs": [],
   "source": []
  }
 ],
 "metadata": {
  "kernelspec": {
   "display_name": "aigo",
   "language": "python",
   "name": "aigo"
  },
  "language_info": {
   "codemirror_mode": {
    "name": "ipython",
    "version": 3
   },
   "file_extension": ".py",
   "mimetype": "text/x-python",
   "name": "python",
   "nbconvert_exporter": "python",
   "pygments_lexer": "ipython3",
   "version": "3.8.18"
  }
 },
 "nbformat": 4,
 "nbformat_minor": 5
}
