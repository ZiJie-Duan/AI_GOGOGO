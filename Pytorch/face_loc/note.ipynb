{
 "cells": [
  {
   "cell_type": "code",
   "execution_count": null,
   "id": "3fc06e77-3983-4f33-9050-d5edbb55bb9c",
   "metadata": {},
   "outputs": [],
   "source": [
    "import cv2 \n",
    "from matplotlib import pyplot as plt"
   ]
  },
  {
   "cell_type": "code",
   "execution_count": null,
   "id": "8204a968-0a5f-4d60-b814-e3c48a0e7423",
   "metadata": {},
   "outputs": [],
   "source": [
    "import os\n",
    "import torch\n",
    "from torch.utils.data import Dataset, DataLoader\n",
    "from PIL import Image\n",
    "import torchvision.transforms as transforms\n",
    "\n",
    "import torch\n",
    "import torch.nn as nn\n",
    "import torch.optim as optim\n",
    "import torch.nn.functional as F\n",
    "from torch.autograd import Variable\n",
    "import numpy as np\n",
    "import random\n",
    "import os\n",
    "import csv\n",
    "import cv2\n",
    "from frame import FLCDataset, visualize_transformed_image\n"
   ]
  },
  {
   "cell_type": "code",
   "execution_count": null,
   "id": "81167968-7b8a-4c8c-9af7-f631e7dfd845",
   "metadata": {},
   "outputs": [],
   "source": [
    "IMG_INPUT_SIZE = [12,12]\n",
    "\n",
    "# 定义转换操作\n",
    "transform = transforms.Compose([\n",
    "    transforms.Resize(IMG_INPUT_SIZE[0]),\n",
    "    transforms.CenterCrop(IMG_INPUT_SIZE[0]),\n",
    "    transforms.ToTensor(),  # 将PIL图像或NumPy ndarray转换为FloatTensor。\n",
    "    transforms.Normalize(mean=[0.485, 0.456, 0.406],  # 标准化，使用ImageNet的均值和标准差\n",
    "                         std=[0.229, 0.224, 0.225])\n",
    "])\n",
    "\n",
    "\n",
    "def label_transform(label, img_size):\n",
    "    # 目标尺寸\n",
    "    nh, nw = IMG_INPUT_SIZE[1], IMG_INPUT_SIZE[0]\n",
    "    # 原始尺寸\n",
    "    h, w = img_size\n",
    "    # 计算缩放比例\n",
    "    x_scale = nw / w\n",
    "    y_scale = nh / h\n",
    "    \n",
    "    # 处理标签中的每个坐标\n",
    "    transformed_label = []\n",
    "    for i, value in enumerate(label):\n",
    "        if i % 2 == 0:  # 偶数索引位置，x坐标\n",
    "            transformed_label.append(value * x_scale)\n",
    "        else:  # 奇数索引位置，y坐标\n",
    "            transformed_label.append(value * y_scale)\n",
    "            \n",
    "    return transformed_label\n",
    "\n"
   ]
  },
  {
   "cell_type": "code",
   "execution_count": 44,
   "id": "ce958c5d-85fa-48b9-92aa-c9a3c73587fb",
   "metadata": {},
   "outputs": [],
   "source": [
    "train_dataset = FLCDataset(r\"C:\\Users\\lucyc\\Desktop\\face_loc\\train.csv\", r\"C:\\Users\\lucyc\\Desktop\\face_loc\\train\", transform, label_transform)\n",
    "val_dataset = FLCDataset(r\"C:\\Users\\lucyc\\Desktop\\face_loc\\val.csv\", r\"C:\\Users\\lucyc\\Desktop\\face_loc\\val\", transform, label_transform)\n",
    "test_dataset = FLCDataset(r\"C:\\Users\\lucyc\\Desktop\\face_loc\\test.csv\", r\"C:\\Users\\lucyc\\Desktop\\face_loc\\test\", transform, label_transform)\n",
    "\n",
    "train_loader = DataLoader(train_dataset, batch_size=1, shuffle=True)\n",
    "val_loader = DataLoader(val_dataset, batch_size=1, shuffle=True)\n",
    "test_loader = DataLoader(test_dataset, batch_size=1, shuffle=True)"
   ]
  },
  {
   "cell_type": "code",
   "execution_count": 45,
   "id": "431509f0",
   "metadata": {},
   "outputs": [],
   "source": [
    "#a, b = next(iter(val_loader))"
   ]
  },
  {
   "cell_type": "code",
   "execution_count": 46,
   "id": "50b4e8fd",
   "metadata": {},
   "outputs": [],
   "source": [
    "def get_args(b):\n",
    "    return [int(float(x)//1) for x in b.split()]"
   ]
  },
  {
   "cell_type": "code",
   "execution_count": 47,
   "id": "1e5e3b97-531f-432b-943f-05799c0b8939",
   "metadata": {},
   "outputs": [],
   "source": [
    "#visualize_transformed_image(a[6],get_args(b[6]),get_args(b[6]))"
   ]
  },
  {
   "cell_type": "code",
   "execution_count": 48,
   "id": "ef80c66a-6a07-483e-bdec-a80686fc1e26",
   "metadata": {},
   "outputs": [
    {
     "name": "stdout",
     "output_type": "stream",
     "text": [
      "cuda:0\n"
     ]
    }
   ],
   "source": [
    "device = torch.device(\"cuda:0\" if torch.cuda.is_available() else \"CPU\")\n",
    "print(device)\n",
    "torch.cuda.empty_cache()"
   ]
  },
  {
   "cell_type": "code",
   "execution_count": 49,
   "id": "536c49d2-e065-4508-8c1d-64e4d5da4754",
   "metadata": {},
   "outputs": [],
   "source": [
    "class PNet(nn.Module):\n",
    "\n",
    "    def __init__(self):\n",
    "        super(PNet, self).__init__()\n",
    "\n",
    "        # 定义网络层\n",
    "        self.conv1 = nn.Conv2d(3, 10, 3)  #12 -> 10 -> maxp -> 5\n",
    "        self.conv2 = nn.Conv2d(10, 16, 3) #5 -> 3\n",
    "        self.conv3 = nn.Conv2d(16, 32, 3) #3 -> 1\n",
    "\n",
    "        self.face_det = nn.Conv2d(32, 2, 1) #1 -> 1\n",
    "        self.bbox = nn.Conv2d(32, 4, 1) #1 -> 1\n",
    "        self.landmark = nn.Conv2d(32, 10, 1) #1 -> 1\n",
    "\n",
    "    def forward(self, x):\n",
    "        # 定义前向传播\n",
    "        x = F.relu(self.conv1(x)) #10\n",
    "        x = F.max_pool2d(x, 2) #5\n",
    "        x = F.relu(self.conv2(x)) #3\n",
    "        x = F.relu(self.conv3(x)) #1\n",
    "\n",
    "        facedet = F.relu(self.face_det(x))\n",
    "        bbox = F.relu(self.bbox(x))\n",
    "        landmark = F.relu(self.landmark(x))\n",
    "\n",
    "        return facedet, bbox, landmark\n"
   ]
  },
  {
   "cell_type": "code",
   "execution_count": null,
   "id": "70b65901-3e1b-4723-b40a-3ad7f1753954",
   "metadata": {},
   "outputs": [],
   "source": [
    "class PNetLoss(nn.Module):\n",
    "    def __init__(self):\n",
    "        super(PNetLoss, self).__init__()\n",
    "        # 这里可以初始化任何需要的参数或层\n",
    "\n",
    "    def forward(self, facedet, bbox, landmark, label, type):\n",
    "        \n",
    "        if type == 'face':\n",
    "            # 计算人脸分类损失\n",
    "            facedet_loss = F.cross_entropy(facedet, label)\n",
    "            return facedet_loss\n",
    "\n",
    "        elif type == 'bbox':\n",
    "            # 计算边界框回归损失\n",
    "            bbox_loss = F.mse_loss(bbox, label)\n",
    "            return bbox_loss\n",
    "        \n",
    "        elif type == 'landmark':\n",
    "            # 计算关键点回归损失\n",
    "            landmark_loss = F.mse_loss(landmark, label)\n",
    "            return landmark_loss\n",
    "        \n",
    "        \n",
    "        # 计算三元组损失\n",
    "        losses = F.relu(distance_positive - distance_negative + 3)\n",
    "        \n",
    "        # 返回平均损失\n",
    "        return losses.mean()"
   ]
  },
  {
   "cell_type": "code",
   "execution_count": null,
   "id": "8d908743",
   "metadata": {},
   "outputs": [],
   "source": [
    "torch.cuda.empty_cache()\n",
    "torch.autograd.set_detect_anomaly(True)"
   ]
  },
  {
   "cell_type": "code",
   "execution_count": null,
   "id": "a306c4ac-24ba-43a4-a46c-e60ac3615d8c",
   "metadata": {},
   "outputs": [],
   "source": [
    "model = PNet()\n",
    "print(model)\n",
    "\n",
    "model.to(device)  # 将模型发送到GPU，如果有的话\n",
    "\n",
    "# 定义损失函数和优化器\n",
    "criterion = PNetLoss()\n",
    "optimizer = optim.Adam(model.parameters(), lr=0.0001)\n",
    "\n",
    "# 训练模型\n",
    "num_epochs = 5\n",
    "\n",
    "for epoch in range(num_epochs):\n",
    "    model.train()  # 设置模型为训练模式\n",
    "\n",
    "    train_loss_acc = 0.\n",
    "    train_num = 0\n",
    "\n",
    "    for inputs in train_loader:\n",
    "        \n",
    "        img_tensor = inputs[0].to(device)\n",
    "        labble_str = inputs[1].split()\n",
    "        label = [int(float(x)//1) for x in labble_str]\n",
    "\n",
    "        facedet, bbox, landmark = model(img_tensor)\n",
    "\n",
    "        if len(label) > 4:\n",
    "            \n",
    "\n",
    "        \n",
    "        else:\n",
    "            \n",
    "        \n",
    "        # 前向传播\n",
    "        anchor = model(anchor)\n",
    "        positive = model(positive)\n",
    "        negative = model(negative)\n",
    "\n",
    "        optimizer.zero_grad()  # 清除之前的梯度\n",
    "        loss = criterion(anchor, positive, negative)\n",
    "        # 反向传播和优化\n",
    "        loss.backward()  # 反向传播计算当前的梯度\n",
    "        optimizer.step()  # 更新参数\n",
    "\n",
    "        train_loss_acc += loss.item()\n",
    "        train_num += 1\n",
    "\n",
    "        #print(loss)\n",
    "\n",
    "    model.eval() \n",
    "    val_loss_acc = 0\n",
    "    val_num = 0\n",
    "    with torch.no_grad():\n",
    "        for inputs in val_loader:\n",
    "            anchor = inputs[0].to(device)\n",
    "            positive = inputs[1].to(device)\n",
    "            negative = inputs[2].to(device)\n",
    "            \n",
    "            anchor = model(anchor)\n",
    "            positive = model(positive)\n",
    "            negative = model(negative)\n",
    "\n",
    "            loss = criterion(anchor, positive, negative)\n",
    "            #loss += abs(5-criterion(anchor, negative))\n",
    "            val_loss_acc += loss\n",
    "            val_num += 1\n",
    "\n",
    "    print(\"Epoch [{}/{}], Loss: {:.2f}, Val_loss: {:.2f}\".format(epoch+1, num_epochs, train_loss_acc/train_num, val_loss_acc/val_num))\n"
   ]
  },
  {
   "cell_type": "code",
   "execution_count": null,
   "id": "4aa2d4f2-edd5-42f8-a50b-567ef8fa9506",
   "metadata": {},
   "outputs": [],
   "source": []
  },
  {
   "cell_type": "code",
   "execution_count": null,
   "id": "097e9758-d831-449b-a7e8-d16d0a7401a9",
   "metadata": {},
   "outputs": [],
   "source": []
  },
  {
   "cell_type": "code",
   "execution_count": null,
   "id": "ba3bcd23-51f9-4dd3-a6fd-00a0f1cd4e63",
   "metadata": {},
   "outputs": [],
   "source": []
  },
  {
   "cell_type": "code",
   "execution_count": null,
   "id": "eed60163-fe48-4580-af24-e666a0760a50",
   "metadata": {},
   "outputs": [],
   "source": []
  },
  {
   "cell_type": "code",
   "execution_count": null,
   "id": "8d9fd2f3-70ae-4f83-a85b-616c48a64ef5",
   "metadata": {},
   "outputs": [],
   "source": []
  },
  {
   "cell_type": "code",
   "execution_count": null,
   "id": "38c7cb2d-0b76-435c-bc1a-e564fe988ce4",
   "metadata": {},
   "outputs": [],
   "source": []
  }
 ],
 "metadata": {
  "kernelspec": {
   "display_name": "ai_torch",
   "language": "python",
   "name": "torch"
  },
  "language_info": {
   "codemirror_mode": {
    "name": "ipython",
    "version": 3
   },
   "file_extension": ".py",
   "mimetype": "text/x-python",
   "name": "python",
   "nbconvert_exporter": "python",
   "pygments_lexer": "ipython3",
   "version": "3.11.7"
  }
 },
 "nbformat": 4,
 "nbformat_minor": 5
}
