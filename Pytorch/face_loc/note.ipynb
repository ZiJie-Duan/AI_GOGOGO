{
 "cells": [
  {
   "cell_type": "raw",
   "id": "31b8b2e5-2f57-404d-9acf-f23c0726c30a",
   "metadata": {},
   "source": [
    "人脸检测神经网络设计 1.0"
   ]
  },
  {
   "cell_type": "code",
   "execution_count": 3,
   "id": "3fc06e77-3983-4f33-9050-d5edbb55bb9c",
   "metadata": {},
   "outputs": [],
   "source": [
    "import cv2  \n",
    "from matplotlib import pyplot as plt"
   ]
  },
  {
   "cell_type": "code",
   "execution_count": null,
   "id": "f3c8af20-abb4-48aa-b169-05ab3a80bb42",
   "metadata": {},
   "outputs": [],
   "source": []
  },
  {
   "cell_type": "code",
   "execution_count": 5,
   "id": "8204a968-0a5f-4d60-b814-e3c48a0e7423",
   "metadata": {},
   "outputs": [],
   "source": [
    "import os\n",
    "import torch\n",
    "from torch.utils.data import Dataset, DataLoader\n",
    "from PIL import Image\n",
    "import torchvision.transforms as transforms\n",
    "\n",
    "import torch\n",
    "import torch.nn as nn\n",
    "import torch.optim as optim\n",
    "import torch.nn.functional as F\n",
    "from torch.autograd import Variable\n",
    "import numpy as np\n",
    "import random"
   ]
  },
  {
   "cell_type": "code",
   "execution_count": null,
   "id": "c20cbc92-3077-4f1a-98bc-d18e7d9ef9b9",
   "metadata": {},
   "outputs": [],
   "source": [
    "from frame import TrpDataSet"
   ]
  },
  {
   "cell_type": "code",
   "execution_count": 6,
   "id": "ef80c66a-6a07-483e-bdec-a80686fc1e26",
   "metadata": {},
   "outputs": [],
   "source": [
    "device = torch.device(\"cuda:0\" if torch.cuda.is_available() else \"CPU\")\n",
    "torch.cuda.empty_cache()"
   ]
  },
  {
   "cell_type": "code",
   "execution_count": null,
   "id": "3d041d96-2987-4db3-8ce5-2fdb94960d1e",
   "metadata": {},
   "outputs": [],
   "source": []
  },
  {
   "cell_type": "code",
   "execution_count": null,
   "id": "13baa81d-e18b-435c-b301-bd30cf123ef2",
   "metadata": {},
   "outputs": [],
   "source": []
  },
  {
   "cell_type": "code",
   "execution_count": null,
   "id": "5c5e8cc8-43de-4afc-9435-a970eb114b01",
   "metadata": {},
   "outputs": [],
   "source": []
  },
  {
   "cell_type": "code",
   "execution_count": null,
   "id": "3b28f3e1-26d0-4645-9efe-ded1e970455e",
   "metadata": {},
   "outputs": [],
   "source": []
  },
  {
   "cell_type": "code",
   "execution_count": null,
   "id": "43e86fc1-d067-415f-a01d-a2f94a8a28e1",
   "metadata": {},
   "outputs": [],
   "source": []
  },
  {
   "cell_type": "code",
   "execution_count": null,
   "id": "536c49d2-e065-4508-8c1d-64e4d5da4754",
   "metadata": {},
   "outputs": [],
   "source": []
  },
  {
   "cell_type": "code",
   "execution_count": null,
   "id": "70b65901-3e1b-4723-b40a-3ad7f1753954",
   "metadata": {},
   "outputs": [],
   "source": []
  },
  {
   "cell_type": "code",
   "execution_count": null,
   "id": "a306c4ac-24ba-43a4-a46c-e60ac3615d8c",
   "metadata": {},
   "outputs": [],
   "source": []
  },
  {
   "cell_type": "code",
   "execution_count": null,
   "id": "4aa2d4f2-edd5-42f8-a50b-567ef8fa9506",
   "metadata": {},
   "outputs": [],
   "source": []
  },
  {
   "cell_type": "code",
   "execution_count": null,
   "id": "097e9758-d831-449b-a7e8-d16d0a7401a9",
   "metadata": {},
   "outputs": [],
   "source": []
  },
  {
   "cell_type": "code",
   "execution_count": null,
   "id": "ba3bcd23-51f9-4dd3-a6fd-00a0f1cd4e63",
   "metadata": {},
   "outputs": [],
   "source": []
  },
  {
   "cell_type": "code",
   "execution_count": null,
   "id": "d7789721-0f99-4d92-baa2-6d2f85e0c931",
   "metadata": {},
   "outputs": [],
   "source": [
    "wfd = WFDriver(r\"C:\\Users\\lucyc\\Desktop\\faces\\wider_face_split\\wider_face_split\\wider_face_train.mat\",\n",
    "               r\"C:\\Users\\lucyc\\Desktop\\faces\\WIDER_train\\WIDER_train\\images\")"
   ]
  },
  {
   "cell_type": "raw",
   "id": "5d300da3-1b41-4579-a2e8-8904db97f0bc",
   "metadata": {},
   "source": [
    "for c, i in wfd.data_index[500:]:\n",
    "    path = wfd.get_file_path(c,i)\n",
    "    bounds = wfd.get_face_bbx_list(c,i)\n",
    "    img = cv2.imread(path,1)  \n",
    "    \n",
    "    for b in bounds:\n",
    "        # 在图片上画矩形框，参数分别是：图片、左上角坐标、右下角坐标、颜色（BGR格式）、线条厚度\n",
    "        img = cv2.rectangle(img, (b[0], b[1]), (b[0]+b[2], b[1]+b[3]), (255, 0, 0), 2)\n",
    "\n",
    "    image_rgb = cv2.cvtColor(img, cv2.COLOR_BGR2RGB)\n",
    "    plt.imshow(image_rgb)\n",
    "    plt.axis('off')  # 不显示坐标轴\n",
    "    plt.show()\n",
    "    input()"
   ]
  },
  {
   "cell_type": "code",
   "execution_count": null,
   "id": "1988695a-d539-46df-88f2-91031c5f4a32",
   "metadata": {},
   "outputs": [],
   "source": []
  },
  {
   "cell_type": "code",
   "execution_count": null,
   "id": "148ebcd9-5e8a-475c-97b3-657859a1ed4d",
   "metadata": {},
   "outputs": [],
   "source": []
  },
  {
   "cell_type": "code",
   "execution_count": null,
   "id": "dc1ff09f-6842-4519-8b1a-e3ed7805192c",
   "metadata": {},
   "outputs": [],
   "source": []
  },
  {
   "cell_type": "code",
   "execution_count": null,
   "id": "4865cacd-9759-42a6-bd2e-779980587aa6",
   "metadata": {},
   "outputs": [],
   "source": []
  },
  {
   "cell_type": "code",
   "execution_count": null,
   "id": "94d131a4-21e8-4764-b8e3-f3ead6470660",
   "metadata": {},
   "outputs": [],
   "source": []
  },
  {
   "cell_type": "code",
   "execution_count": null,
   "id": "3d77ce85-e684-4695-aac3-f6422320ba5e",
   "metadata": {},
   "outputs": [],
   "source": []
  },
  {
   "cell_type": "code",
   "execution_count": null,
   "id": "eed60163-fe48-4580-af24-e666a0760a50",
   "metadata": {},
   "outputs": [],
   "source": []
  },
  {
   "cell_type": "code",
   "execution_count": null,
   "id": "8d9fd2f3-70ae-4f83-a85b-616c48a64ef5",
   "metadata": {},
   "outputs": [],
   "source": []
  },
  {
   "cell_type": "code",
   "execution_count": 16,
   "id": "4e1cf592-41d0-416d-ab62-529c3bc747a8",
   "metadata": {},
   "outputs": [],
   "source": [
    "\n",
    "mat = scipy.io.loadmat(r\"C:\\Users\\lucyc\\Desktop\\faces\\wider_face_split\\wider_face_split\\wider_face_train.mat\")\n"
   ]
  },
  {
   "cell_type": "code",
   "execution_count": 18,
   "id": "ea1662a0-70ac-4ec6-b648-1b5cd59f07af",
   "metadata": {},
   "outputs": [
    {
     "data": {
      "text/plain": [
       "dict_keys(['__header__', '__version__', '__globals__', 'blur_label_list', 'event_list', 'expression_label_list', 'face_bbx_list', 'file_list', 'illumination_label_list', 'invalid_label_list', 'occlusion_label_list', 'pose_label_list'])"
      ]
     },
     "execution_count": 18,
     "metadata": {},
     "output_type": "execute_result"
    }
   ],
   "source": [
    "mat.keys()"
   ]
  },
  {
   "cell_type": "code",
   "execution_count": 57,
   "id": "f0d587cf-7f0d-469e-9322-3c4603a2e3b3",
   "metadata": {
    "scrolled": true
   },
   "outputs": [
    {
     "data": {
      "text/plain": [
       "(1,)"
      ]
     },
     "execution_count": 57,
     "metadata": {},
     "output_type": "execute_result"
    }
   ],
   "source": [
    "mat[\"face_bbx_list\"][0].shape"
   ]
  },
  {
   "cell_type": "code",
   "execution_count": 164,
   "id": "93dad397-344b-4b19-8815-f422520fbf5a",
   "metadata": {},
   "outputs": [],
   "source": [
    "wfd = WFDriver(r\"C:\\Users\\lucyc\\Desktop\\faces\\wider_face_split\\wider_face_split\\wider_face_train.mat\",\n",
    "               r\"C:\\Users\\lucyc\\Desktop\\faces\\WIDER_train\\WIDER_train\\images\")"
   ]
  },
  {
   "cell_type": "code",
   "execution_count": 165,
   "id": "beb0d373-932e-4c81-af9b-dadfa1c90989",
   "metadata": {},
   "outputs": [
    {
     "data": {
      "text/plain": [
       "'C:\\\\Users\\\\lucyc\\\\Desktop\\\\faces\\\\WIDER_train\\\\WIDER_train\\\\images\\\\61--Street_Battle\\\\61_Street_Battle_streetfight_61_382.jpg'"
      ]
     },
     "execution_count": 165,
     "metadata": {},
     "output_type": "execute_result"
    }
   ],
   "source": [
    "wfd.get_file_path(61,2)"
   ]
  },
  {
   "cell_type": "code",
   "execution_count": 171,
   "id": "ec696b49-383e-4c0a-be84-fe8d70b0118a",
   "metadata": {},
   "outputs": [
    {
     "data": {
      "text/plain": [
       "array([[223, 289,  32,  44],\n",
       "       [357, 258,  20,  27],\n",
       "       [411, 313,  18,  26],\n",
       "       [346, 224,  11,  15],\n",
       "       [298, 224,  15,  20],\n",
       "       [193, 244,  15,  14],\n",
       "       [223, 232,  12,  14],\n",
       "       [135, 239,  26,  35],\n",
       "       [ 86, 222,   7,   8],\n",
       "       [100, 231,   6,   8],\n",
       "       [176, 232,   8,  10],\n",
       "       [389, 238,  10,  14],\n",
       "       [474, 212,  12,  13],\n",
       "       [ 16, 225,   9,  11]])"
      ]
     },
     "execution_count": 171,
     "metadata": {},
     "output_type": "execute_result"
    }
   ],
   "source": []
  },
  {
   "cell_type": "code",
   "execution_count": null,
   "id": "38c7cb2d-0b76-435c-bc1a-e564fe988ce4",
   "metadata": {},
   "outputs": [],
   "source": []
  }
 ],
 "metadata": {
  "kernelspec": {
   "display_name": "ai_torch",
   "language": "python",
   "name": "torch"
  },
  "language_info": {
   "codemirror_mode": {
    "name": "ipython",
    "version": 3
   },
   "file_extension": ".py",
   "mimetype": "text/x-python",
   "name": "python",
   "nbconvert_exporter": "python",
   "pygments_lexer": "ipython3",
   "version": "3.11.7"
  }
 },
 "nbformat": 4,
 "nbformat_minor": 5
}
