{
 "cells": [
  {
   "cell_type": "code",
   "execution_count": 1,
   "id": "e8209b34-4195-4269-9589-f63f355abb94",
   "metadata": {},
   "outputs": [],
   "source": [
    "from torch.utils.data import Dataset\n",
    "from PIL import Image\n",
    "import scipy.io\n",
    "import os\n",
    "import csv\n",
    "import random\n",
    "import cv2\n",
    "import torchvision.transforms as transforms\n",
    "import matplotlib.pyplot as plt\n",
    "import math\n"
   ]
  },
  {
   "cell_type": "code",
   "execution_count": 2,
   "id": "b6c676d2-4f1d-402d-a06b-a2e5455b1365",
   "metadata": {},
   "outputs": [],
   "source": [
    "\n",
    "class CELEBADriver:\n",
    "    \n",
    "    #['image_id', 'lefteye_x', 'lefteye_y', 'righteye_x', 'righteye_y', 'nose_x', 'nose_y','leftmouth_x', 'leftmouth_y', 'rightmouth_x', 'rightmouth_y']\n",
    "    #['000001.jpg', '69', '109', '106', '113', '77', '142', '73', '152', '108', '154']\n",
    "    #['image_id', 'x_1', 'y_1', 'width', 'height']\n",
    "    #['000001.jpg', '95', '71', '226', '313']\n",
    "\n",
    "    def __init__(self, bbox_path, landmarks_path, imgs_path):\n",
    "        self.bbox_path = bbox_path\n",
    "        self.landmarks_path = landmarks_path\n",
    "        self.imgs_path = imgs_path\n",
    "        self.data = {}\n",
    "        self.dataset_index = []  # 样本汇总\n",
    "        self.init_dataset()\n",
    "\n",
    "    def init_dataset(self):\n",
    "        with open(self.bbox_path, mode='r', encoding='utf-8') as file:\n",
    "            csv_reader = csv.reader(file)\n",
    "            count = 0\n",
    "            for row in csv_reader:\n",
    "                if count == 0:\n",
    "                    count += 1\n",
    "                    continue\n",
    "                self.data[count] = {\"name\":row[0]}\n",
    "                self.data[count][\"bbox\"] = [int(x) for x in row[1:]]\n",
    "                count += 1\n",
    "                \n",
    "        with open(self.landmarks_path, mode='r', encoding='utf-8') as file:\n",
    "            csv_reader = csv.reader(file)\n",
    "            count = 0\n",
    "            for row in csv_reader:\n",
    "                if count == 0:\n",
    "                    count += 1\n",
    "                    continue\n",
    "                self.data[count][\"ldmk\"] = [int(x) for x in row[1:]]\n",
    "                count += 1\n",
    "\n",
    "        self.dataset_index = [x for x in range(count)]\n",
    "\n",
    "    def get_file_path(self, index):\n",
    "        # index 获取一个图片文件路径\n",
    "        return self.imgs_path + \"\\\\\" + self.data[index][\"name\"]\n",
    "\n",
    "    def get_face_bbx_list(self, index):\n",
    "        return [self.data[index][\"bbox\"]]\n",
    "\n",
    "    def get_face_ldmk_list(self, index):\n",
    "        return [self.data[index][\"ldmk\"]]\n",
    "\n",
    "    def random_init(self):\n",
    "        if input(\"!!! SERIOUS RANDOM INIT DATASET ALARM !!! type ‘y’ to continue... \") == 'y':\n",
    "            print(\"RANDOM SET\")\n",
    "            random.shuffle(self.dataset_index)\n",
    "\n",
    "    def get_data(self, i):\n",
    "        i = self.dataset_index[i]\n",
    "        return (self.get_file_path(i),self.get_face_bbx_list(i),self.get_face_ldmk_list(i))\n",
    "\n",
    "class WFDriver:\n",
    "\n",
    "    def __init__(self, mat_path, clas_root_path):\n",
    "        self.data = scipy.io.loadmat(mat_path) # 读取 mat 文件到 内存中\n",
    "        self.r_path = clas_root_path # 类别文件 系统根目录\n",
    "        self.clas_i_map = {} # 我们利用文件命名中的数字编号 作为索引\n",
    "        # 建立clas_i_map 将文件命名中的编号 和 mat数据中索引进行关联\n",
    "        self.clas_map = {} # 将 文件命名中的编号 和 类别文件夹的全名\n",
    "        self.dataset_index = [] # 样本汇总\n",
    "\n",
    "        self.init_clas_map() \n",
    "        \n",
    "    def init_clas_map(self):\n",
    "        # 初始化 类别标签\n",
    "        # 我们利用文件命名中的数组编号 作为索引\n",
    "        # 建立clas_i_map 将文件命名中的编号 和 数据中随机索引进行关联\n",
    "        for i in range(len(self.data[\"file_list\"])):\n",
    "            j = int(self.data[\"file_list\"][i][0][0][0][0].split(\"_\")[0])\n",
    "            self.clas_i_map[j] = i\n",
    "\n",
    "        # 生成clas_map，将类别编号 和其 名称绑定\n",
    "        for _, dirs, files in os.walk(self.r_path):\n",
    "            for dir in dirs:\n",
    "\n",
    "                clas_i = int(dir.split(\"--\")[0]) # 根据目录名字 生成类别索引\n",
    "                self.clas_map[clas_i] = dir      # 将类别索引 与 目录名字 建立连接\n",
    "\n",
    "                num_smp = len(self.data[\"file_list\"][self.clas_i_map[clas_i]][0]) # 求出一个类别有多少个样本\n",
    "                self.dataset_index += [(clas_i, x) for x in range(num_smp)] # 并入 样本数组\n",
    "\n",
    "            \n",
    "    def get_file_path(self, clas, index):\n",
    "        # 通过 clas 和 index 获取一个图片文件信息\n",
    "        return self.r_path + \"\\\\\" + self.clas_map[clas]\\\n",
    "                + \"\\\\\" + self.data[\"file_list\"][self.clas_i_map[clas]][0][index][0][0] + \".jpg\"\n",
    "\n",
    "    def get_face_bbx_list(self, clas, index):\n",
    "        return self.data[\"face_bbx_list\"][self.clas_i_map[clas]][0][index][0]\n",
    "\n",
    "    def random_init(self):\n",
    "        if input(\"!!! SERIOUS RANDOM INIT DATASET ALARM !!! type ‘y’ to continue... \") == 'y':\n",
    "            print(\"RANDOM SET\")\n",
    "            random.shuffle(self.dataset_index)\n",
    "\n",
    "    def get_data(self, i):\n",
    "        i,j = self.dataset_index[i]\n",
    "        return (self.get_file_path(i,j),self.get_face_bbx_list(i,j),None)\n",
    "            \n"
   ]
  },
  {
   "cell_type": "code",
   "execution_count": null,
   "id": "9cfadf43-b0fe-43b3-805e-9f99e5f37f24",
   "metadata": {},
   "outputs": [],
   "source": []
  },
  {
   "cell_type": "code",
   "execution_count": 3,
   "id": "a17c069e-f42f-4fcd-9b63-fbb8f029bd86",
   "metadata": {},
   "outputs": [],
   "source": [
    "bbox_path = r\"C:\\Users\\lucyc\\Desktop\\celebA\\list_bbox_celeba.csv\"\n",
    "ldmk_path = r\"C:\\Users\\lucyc\\Desktop\\celebA\\list_landmarks_align_celeba.csv\"\n",
    "basic_path = r\"C:\\Users\\lucyc\\Desktop\\celebA\\img_align_celeba\\img_align_celeba\"\n",
    "\n",
    "cead = CELEBADriver(bbox_path, ldmk_path, basic_path)\n",
    "\n",
    "mat_path = r\"C:\\Users\\lucyc\\Desktop\\faces\\WIDER_train\\WIDER_train\\images\"\n",
    "clas_root_path = r\"C:\\Users\\lucyc\\Desktop\\faces\\wider_face_split\\wider_face_split\\wider_face_train.mat\"\n",
    "\n",
    "wfd = WFDriver(clas_root_path, mat_path)"
   ]
  },
  {
   "cell_type": "code",
   "execution_count": null,
   "id": "7e855ca5-1a08-41f4-a141-0062fb570b83",
   "metadata": {},
   "outputs": [],
   "source": []
  },
  {
   "cell_type": "code",
   "execution_count": 11,
   "id": "0cb880b2-17ea-4c4f-8b1b-df2acd478806",
   "metadata": {},
   "outputs": [
    {
     "data": {
      "text/plain": [
       "('C:\\\\Users\\\\lucyc\\\\Desktop\\\\celebA\\\\img_align_celeba\\\\img_align_celeba\\\\000001.jpg',\n",
       " [[95, 71, 226, 313]],\n",
       " [[69, 109, 106, 113, 77, 142, 73, 152, 108, 154]])"
      ]
     },
     "execution_count": 11,
     "metadata": {},
     "output_type": "execute_result"
    }
   ],
   "source": [
    "cead.get_data(1)"
   ]
  },
  {
   "cell_type": "code",
   "execution_count": 5,
   "id": "fed41215-48c3-4028-803b-a0498c23e635",
   "metadata": {},
   "outputs": [
    {
     "data": {
      "text/plain": [
       "('C:\\\\Users\\\\lucyc\\\\Desktop\\\\faces\\\\WIDER_train\\\\WIDER_train\\\\images\\\\0--Parade\\\\0_Parade_marchingband_1_849.jpg',\n",
       " array([[449, 330, 122, 149]]),\n",
       " None)"
      ]
     },
     "execution_count": 5,
     "metadata": {},
     "output_type": "execute_result"
    }
   ],
   "source": [
    "wfd.get_data(0)"
   ]
  },
  {
   "cell_type": "code",
   "execution_count": null,
   "id": "685bec2c-b900-4a1d-b815-1c517d08fb6d",
   "metadata": {},
   "outputs": [],
   "source": []
  }
 ],
 "metadata": {
  "kernelspec": {
   "display_name": "ai_torch",
   "language": "python",
   "name": "torch"
  },
  "language_info": {
   "codemirror_mode": {
    "name": "ipython",
    "version": 3
   },
   "file_extension": ".py",
   "mimetype": "text/x-python",
   "name": "python",
   "nbconvert_exporter": "python",
   "pygments_lexer": "ipython3",
   "version": "3.11.7"
  }
 },
 "nbformat": 4,
 "nbformat_minor": 5
}
