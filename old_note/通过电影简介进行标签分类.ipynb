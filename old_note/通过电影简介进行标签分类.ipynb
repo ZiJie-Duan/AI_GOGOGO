{
 "cells": [
  {
   "cell_type": "code",
   "execution_count": null,
   "id": "0b557e8c",
   "metadata": {},
   "outputs": [],
   "source": []
  },
  {
   "cell_type": "code",
   "execution_count": 1,
   "id": "f9060131",
   "metadata": {
    "scrolled": true
   },
   "outputs": [
    {
     "name": "stdout",
     "output_type": "stream",
     "text": [
      "Num GPUs Available:  1\n"
     ]
    }
   ],
   "source": [
    "import tensorflow as tf\n",
    "print(\"Num GPUs Available: \", len(tf.config.list_physical_devices('GPU')))"
   ]
  },
  {
   "cell_type": "code",
   "execution_count": null,
   "id": "833fa58d",
   "metadata": {},
   "outputs": [],
   "source": []
  },
  {
   "cell_type": "code",
   "execution_count": 2,
   "id": "0615c8ba",
   "metadata": {},
   "outputs": [],
   "source": [
    "import numpy as np\n",
    "import re\n",
    "import csv"
   ]
  },
  {
   "cell_type": "code",
   "execution_count": 3,
   "id": "7dd9cc17",
   "metadata": {
    "scrolled": false
   },
   "outputs": [],
   "source": [
    "with open(r\"C:\\Users\\lucyc\\Desktop\\mpst_full_data.csv\", 'r', encoding='utf-8') as f:\n",
    "    reader = csv.reader(f, delimiter=',')\n",
    "    data = list(reader)\n",
    "\n",
    "data = np.array(data)"
   ]
  },
  {
   "cell_type": "code",
   "execution_count": null,
   "id": "e52216b2",
   "metadata": {},
   "outputs": [],
   "source": []
  },
  {
   "cell_type": "code",
   "execution_count": 4,
   "id": "5b8dfaee",
   "metadata": {},
   "outputs": [],
   "source": [
    "#  imdb_id,  title,  plot_synopsis,  tags,  split,  synopsis_source\n",
    "#[0_imdb_id,1_title,2_plot_synopsis,3_tags,4_split,5_synopsis_source]"
   ]
  },
  {
   "cell_type": "code",
   "execution_count": null,
   "id": "a97963ef",
   "metadata": {},
   "outputs": [],
   "source": []
  },
  {
   "cell_type": "code",
   "execution_count": 5,
   "id": "49528c86",
   "metadata": {},
   "outputs": [
    {
     "name": "stdout",
     "output_type": "stream",
     "text": [
      "78058\n",
      "84\n"
     ]
    }
   ],
   "source": [
    "tags_map_dict = {}\n",
    "tags_total = []\n",
    "index_num = 0\n",
    "\n",
    "for tags_s in data:\n",
    "    tags = re.split('[^a-zA-Z]',tags_s[3])\n",
    "    tags_total += tags\n",
    "    \n",
    "print(len(tags_total))\n",
    "tags_total = set(tags_total)\n",
    "print(len(tags_total))\n",
    "\n",
    "for tag in tags_total:\n",
    "    tags_map_dict[tag] = index_num\n",
    "    index_num += 1\n"
   ]
  },
  {
   "cell_type": "code",
   "execution_count": 6,
   "id": "ff13a0b0",
   "metadata": {},
   "outputs": [],
   "source": [
    "word_map_dict = {}\n",
    "index_num = 0\n",
    "word_count_dict = {}\n",
    "\n",
    "for sentence in data:\n",
    "    words = re.split('[^a-zA-Z]',sentence[2])\n",
    "    \n",
    "    for word in words:\n",
    "        if word not in word_count_dict:\n",
    "            word_count_dict[word] = 1\n",
    "        else:\n",
    "            word_count_dict[word] += 1\n",
    "            \n",
    "for word, count in word_count_dict.items():\n",
    "    if count >= 5:\n",
    "        word_map_dict[word] = index_num\n",
    "        index_num += 1"
   ]
  },
  {
   "cell_type": "code",
   "execution_count": 7,
   "id": "2ec94b54",
   "metadata": {},
   "outputs": [
    {
     "name": "stdout",
     "output_type": "stream",
     "text": [
      "84\n",
      "60481\n"
     ]
    }
   ],
   "source": [
    "print(len(tags_map_dict))\n",
    "print(len(word_map_dict))"
   ]
  },
  {
   "cell_type": "code",
   "execution_count": 8,
   "id": "278d9964",
   "metadata": {},
   "outputs": [
    {
     "name": "stdout",
     "output_type": "stream",
     "text": [
      "{'': 0, 'melodrama': 1, 'atmospheric': 2, 'psychological': 3, 'murder': 4, 'noir': 5, 'versus': 6, 'fiction': 7, 'boring': 8, 'claustrophobic': 9, 'fi': 10, 'provoking': 11, 'insanity': 12, 'absurd': 13, 'entertaining': 14, 'magical': 15, 'action': 16, 'inspiring': 17, 'anti': 18, 'paranormal': 19, 'autobiographical': 20, 'haunting': 21, 'depressing': 22, 'sentimental': 23, 'romantic': 24, 'humor': 25, 'evil': 26, 'dark': 27, 'avant': 28, 'grindhouse': 29, 'queer': 30, 'intrigue': 31, 'movie': 32, 'feel': 33, 'prank': 34, 'cute': 35, 'allegory': 36, 'storytelling': 37, 'plot': 38, 'mystery': 39, 'sci': 40, 'alternate': 41, 'satire': 42, 'stupid': 43, 'war': 44, 'home': 45, 'whimsical': 46, 'gothic': 47, 'thought': 48, 'good': 49, 'pornographic': 50, 'revenge': 51, 'tags': 52, 'bleak': 53, 'christian': 54, 'film': 55, 'garde': 56, 'brainwashing': 57, 'history': 58, 'horror': 59, 'cult': 60, 'suspenseful': 61, 'realism': 62, 'tragedy': 63, 'philosophical': 64, 'dramatic': 65, 'clever': 66, 'adult': 67, 'non': 68, 'twist': 69, 'comedy': 70, 'sadist': 71, 'western': 72, 'suicidal': 73, 'neo': 74, 'blaxploitation': 75, 'violence': 76, 'comic': 77, 'psychedelic': 78, 'flashback': 79, 'reality': 80, 'cruelty': 81, 'fantasy': 82, 'historical': 83}\n"
     ]
    }
   ],
   "source": [
    "print(tags_map_dict)"
   ]
  },
  {
   "cell_type": "code",
   "execution_count": null,
   "id": "ae1d4361",
   "metadata": {},
   "outputs": [],
   "source": [
    "\n"
   ]
  },
  {
   "cell_type": "code",
   "execution_count": 9,
   "id": "6faae385",
   "metadata": {},
   "outputs": [],
   "source": [
    "train_data = [d for d in data if d[4] == \"train\"]\n",
    "val_data = [d for d in data if d[4] == \"val\"]\n",
    "test_data = [d for d in data if d[4] == \"test\"]"
   ]
  },
  {
   "cell_type": "code",
   "execution_count": 10,
   "id": "d1301d7e",
   "metadata": {},
   "outputs": [],
   "source": [
    "def get_col(data,col=0):\n",
    "    return np.array([d[col] for d in data])"
   ]
  },
  {
   "cell_type": "code",
   "execution_count": 11,
   "id": "c8d3059f",
   "metadata": {
    "scrolled": true
   },
   "outputs": [],
   "source": [
    "t_x_o = get_col(train_data,2)\n",
    "t_y_o = get_col(train_data,3)\n",
    "v_x_o = get_col(val_data,2)\n",
    "v_y_o = get_col(val_data,3)\n",
    "test_x_o = get_col(test_data,2)\n",
    "test_y_o = get_col(test_data,3)"
   ]
  },
  {
   "cell_type": "code",
   "execution_count": 12,
   "id": "99f8536f",
   "metadata": {
    "scrolled": true
   },
   "outputs": [
    {
     "data": {
      "text/plain": [
       "(9489,)"
      ]
     },
     "execution_count": 12,
     "metadata": {},
     "output_type": "execute_result"
    }
   ],
   "source": [
    "t_x_o.shape"
   ]
  },
  {
   "cell_type": "code",
   "execution_count": 13,
   "id": "c4a8cd99",
   "metadata": {},
   "outputs": [],
   "source": [
    "def vectorize_sequences(seq, dimension=60481):\n",
    "    \n",
    "    results = np.zeros((len(seq), dimension))\n",
    "    \n",
    "    for i, sentence in enumerate(seq):\n",
    "        word_count = {}\n",
    "        words = re.split('[^a-zA-Z]',sentence)\n",
    "        \n",
    "        for word in words:\n",
    "            if word not in word_count:\n",
    "                word_count[word] = 1\n",
    "            else:\n",
    "                word_count[word] += 1\n",
    "                \n",
    "        for word, count in word_count.items():\n",
    "            word_id = word_map_dict.get(word,None)\n",
    "            if word_id:\n",
    "                results[i][word_id] = count\n",
    "    return results"
   ]
  },
  {
   "cell_type": "code",
   "execution_count": 14,
   "id": "a5d7bd40",
   "metadata": {},
   "outputs": [],
   "source": [
    "def vectorize_lables(seq, dimension=84):\n",
    "    results = np.zeros((len(seq), dimension))\n",
    "    \n",
    "    for i, lable_str in enumerate(seq):\n",
    "        lables = set(re.split('[^a-zA-Z]',lable_str))\n",
    "        for lable in lables:\n",
    "            lable_id = tags_map_dict.get(lable,None)\n",
    "            if lable_id:\n",
    "                results[i][lable_id] = 1\n",
    "    return results"
   ]
  },
  {
   "cell_type": "code",
   "execution_count": 15,
   "id": "ec18118f",
   "metadata": {},
   "outputs": [],
   "source": [
    "t_x = vectorize_sequences(t_x_o)\n",
    "v_x = vectorize_sequences(v_x_o)"
   ]
  },
  {
   "cell_type": "code",
   "execution_count": null,
   "id": "ab64af96",
   "metadata": {},
   "outputs": [],
   "source": []
  },
  {
   "cell_type": "code",
   "execution_count": 16,
   "id": "d3403cd2",
   "metadata": {},
   "outputs": [],
   "source": [
    "t_y = vectorize_lables(t_y_o)\n",
    "v_y = vectorize_lables(v_y_o)"
   ]
  },
  {
   "cell_type": "code",
   "execution_count": null,
   "id": "79df3efa",
   "metadata": {},
   "outputs": [],
   "source": []
  },
  {
   "cell_type": "code",
   "execution_count": null,
   "id": "6d957a73",
   "metadata": {},
   "outputs": [],
   "source": []
  },
  {
   "cell_type": "code",
   "execution_count": 17,
   "id": "7622d41b",
   "metadata": {},
   "outputs": [],
   "source": [
    "#-------------------------------module-----------------------------------"
   ]
  },
  {
   "cell_type": "code",
   "execution_count": 31,
   "id": "848fbba1",
   "metadata": {},
   "outputs": [],
   "source": [
    "from keras import models\n",
    "from keras import layers\n",
    "model = models.Sequential()\n",
    "model.add(layers.Dense(500, activation='relu', input_shape=(60481,)))\n",
    "model.add(layers.Dense(84, activation='sigmoid'))\n"
   ]
  },
  {
   "cell_type": "code",
   "execution_count": 32,
   "id": "1ce19691",
   "metadata": {},
   "outputs": [],
   "source": [
    "model.compile(optimizer='rmsprop',\n",
    "              loss='binary_crossentropy',\n",
    "              metrics=['accuracy'])"
   ]
  },
  {
   "cell_type": "code",
   "execution_count": 33,
   "id": "3632978e",
   "metadata": {},
   "outputs": [],
   "source": [
    "# from keras import losses,optimizers\n",
    "# from keras import metrics\n",
    "# model.compile(optimizer=optimizers.RMSprop(learning_rate=0.001),\n",
    "#  loss=losses.binary_crossentropy,\n",
    "#  metrics=[metrics.binary_accuracy])"
   ]
  },
  {
   "cell_type": "code",
   "execution_count": 34,
   "id": "ad602445",
   "metadata": {},
   "outputs": [
    {
     "name": "stdout",
     "output_type": "stream",
     "text": [
      "Epoch 1/5\n",
      "32/32 [==============================] - 2s 46ms/step - loss: 0.2457 - accuracy: 0.2128 - val_loss: 0.1924 - val_accuracy: 0.3670\n",
      "Epoch 2/5\n",
      "32/32 [==============================] - 1s 30ms/step - loss: 0.1356 - accuracy: 0.3380 - val_loss: 0.1678 - val_accuracy: 0.2520\n",
      "Epoch 3/5\n",
      "32/32 [==============================] - 1s 30ms/step - loss: 0.0944 - accuracy: 0.4176 - val_loss: 0.1635 - val_accuracy: 0.3586\n",
      "Epoch 4/5\n",
      "32/32 [==============================] - 1s 30ms/step - loss: 0.0669 - accuracy: 0.4644 - val_loss: 0.1710 - val_accuracy: 0.2992\n",
      "Epoch 5/5\n",
      "32/32 [==============================] - 1s 27ms/step - loss: 0.0481 - accuracy: 0.5132 - val_loss: 0.1703 - val_accuracy: 0.2440\n"
     ]
    }
   ],
   "source": [
    "history = model.fit(\n",
    "    t_x,\n",
    "    t_y,\n",
    "    epochs=5,\n",
    "    batch_size=300,\n",
    "    validation_data=(v_x, v_y))"
   ]
  },
  {
   "cell_type": "code",
   "execution_count": null,
   "id": "1dd6028d",
   "metadata": {},
   "outputs": [],
   "source": []
  },
  {
   "cell_type": "code",
   "execution_count": 35,
   "id": "f46d1a7c",
   "metadata": {
    "scrolled": true
   },
   "outputs": [
    {
     "data": {
      "image/png": "[encoded data removed]",
      "text/plain": [
       "<Figure size 640x480 with 1 Axes>"
      ]
     },
     "metadata": {},
     "output_type": "display_data"
    }
   ],
   "source": [
    "import matplotlib.pyplot as plt\n",
    "history_dict = history.history\n",
    "loss_values = history_dict['loss']\n",
    "val_loss_values = history_dict['val_loss']\n",
    "epochs = range(1, len(loss_values) + 1)\n",
    "plt.plot(epochs, loss_values, 'bo', label='Training loss')\n",
    "plt.plot(epochs, val_loss_values, 'b', label='Validation loss')\n",
    "plt.title('Training and validation loss')\n",
    "plt.xlabel('Epochs')\n",
    "plt.ylabel('Loss')\n",
    "plt.legend()\n",
    "plt.show()"
   ]
  },
  {
   "cell_type": "code",
   "execution_count": 36,
   "id": "13e66b2b",
   "metadata": {},
   "outputs": [
    {
     "name": "stdout",
     "output_type": "stream",
     "text": [
      "dict_keys(['loss', 'accuracy', 'val_loss', 'val_accuracy'])\n"
     ]
    }
   ],
   "source": [
    "print(history.history.keys())"
   ]
  },
  {
   "cell_type": "code",
   "execution_count": 37,
   "id": "9152e92b",
   "metadata": {},
   "outputs": [
    {
     "data": {
      "image/png": "[encoded data removed]",
      "text/plain": [
       "<Figure size 640x480 with 1 Axes>"
      ]
     },
     "metadata": {},
     "output_type": "display_data"
    }
   ],
   "source": [
    "plt.clf()\n",
    "history_dict = history.history\n",
    "acc = history_dict['accuracy']\n",
    "val_acc = history_dict['val_accuracy']\n",
    "plt.plot(epochs, acc, 'bo', label='Training acc')\n",
    "plt.plot(epochs, val_acc, 'b', label='Validation acc')\n",
    "plt.title('Training and validation accuracy')\n",
    "plt.xlabel('Epochs')\n",
    "plt.ylabel('Accuracy')\n",
    "plt.legend()\n",
    "plt.show()"
   ]
  },
  {
   "cell_type": "code",
   "execution_count": null,
   "id": "c4cedcbc",
   "metadata": {},
   "outputs": [],
   "source": []
  },
  {
   "cell_type": "code",
   "execution_count": 56,
   "id": "45f1fe9c",
   "metadata": {},
   "outputs": [],
   "source": [
    "sentence = \"\"\"Plot\n",
    "In 2067, as humanity is facing extinction following a global famine caused by ecocide, it has since abandoned scientific pursuits such as space exploration.[8] As a result, ex-NASA pilot Joseph Cooper is now forced to work as a farmer.\n",
    "\n",
    "Cooper experiences a gravitational anomaly in his daughter Murph's bedroom. He deduces it to be a pattern of GPS coordinates and arrives at a secret NASA facility headed by Professor Brand. Brand explains to Cooper that they are trying to find an exoplanet capable of supporting life, and that he is working on solving a gravity equation to provide a way of transporting large numbers of people off the Earth. He enlists Cooper to pilot an exploratory spacecraft called the Endurance, equipped with two Ranger craft and one Lander craft, with a crew of three scientists: Romilly, Doyle, and Brand’s daughter Amelia. This is humanity's last chance; there are no more resources to mount another expedition. A wormhole has been found near Saturn, enabling the ship to pass through into another galaxy to search for a new home.\n",
    "\n",
    "On the other side, they investigate three planets orbiting a supermassive black hole, Gargantua, with each one previously being checked by a NASA scientist-explorer. Romilly remains in orbit to study Gargantua while the others take a Ranger craft to the surface. The first planet is an ocean world of shallow water. Upon arriving at the beacon and finding debris, they realize the explorer Miller is dead, and Doyle gets swept away by a tidal wave generated by Gargantua's gravity. The wave also floods the Ranger's engines, but they dry out in time for liftoff before the craft would have been destroyed. They return to the Endurance after only one hour, but 23 years have passed due to the time dilation caused by Gargantua's gravity. Back on Earth, Murph has become a scientist and begun working with Brand.\n",
    "\n",
    "On the second planet, the crew awaken the explorer Mann from cryostasis. He reveals to Cooper that he lied about the planet's habitability in the hope that someone would come to rescue him. Back on Earth, a dying Brand confesses to Murph that he lied about being close to a solution for the gravity equation. He put his hopes on Cooper's team finding a habitable planet and establishing a new colony using pre-fertilized eggs. Meanwhile, Romilly dies in an explosion at Mann's camp when he attempts to access the system logs of a robot booby trapped by Mann. Mann tries to kill Cooper, escapes by stealing a Ranger and attempts to hijack the Endurance. Mann then gets himself blown up when he disregards and overrides safety warnings after failing to properly dock the Ranger. After seeing the explosion, Cooper and Brand approach in the Lander and they manage to regain control of the heavily damaged spacecraft.\n",
    "\n",
    "While all hope seems lost, Cooper comes up with a plan to use the remaining Ranger and Lander crafts to execute a fuel burn, to gain the required speed needed to initiate a slingshot maneuver around Gargantua, to propel the damaged Endurance onwards to the third and final planet. However, he has to sacrifice himself by detaching and falling into the black hole to enable Brand to reach Edmunds' planet.\n",
    "\n",
    "Instead of being spagettified, Cooper finds himself inside a five-dimensional tesseract, out of view from beyond the event horizon. From inside he can see moments in time from inside Murph's childhood bedroom. He finds her returning to look for clues to the gravity equation, and he contacts her by manipulating items in the room with gravity to communicate through Morse code. Deducing that this construct has been created by future humans with the ability to time-travel, Cooper imparts to her the information she needs to solve the equation. The future beings return him near Saturn where he gets rescued. He is reunited with an elderly Murph, who has used the gravity equation to enable humanity's exodus from Earth. Feeling content with her life and knowing Cooper kept his word that he would come back to her, she advises him to seek out Amelia and spends the remaining moments with her family. Cooper follows Murph's advice and he sets off again to reunite with Amelia. On the final planet, Amelia removes her helmet and breathes, revealing the planet is capable of sustaining life.\"\"\""
   ]
  },
  {
   "cell_type": "code",
   "execution_count": 57,
   "id": "ce4ea42f",
   "metadata": {},
   "outputs": [],
   "source": [
    "def vectorize_sentence(sentence, dimension=60481):\n",
    "    \n",
    "    results = np.zeros((dimension))\n",
    "\n",
    "    word_count = {}\n",
    "    words = re.split('[^a-zA-Z]',sentence)\n",
    "\n",
    "    for word in words:\n",
    "        if word not in word_count:\n",
    "            word_count[word] = 1\n",
    "        else:\n",
    "            word_count[word] += 1\n",
    "\n",
    "    for word, count in word_count.items():\n",
    "        word_id = word_map_dict.get(word,None)\n",
    "        if word_id:\n",
    "            results[word_id] = count\n",
    "    return results"
   ]
  },
  {
   "cell_type": "code",
   "execution_count": 58,
   "id": "9c2b3e07",
   "metadata": {},
   "outputs": [],
   "source": [
    "res = vectorize_sentence(sentence)\n",
    "res = np.expand_dims(res, axis=0)"
   ]
  },
  {
   "cell_type": "code",
   "execution_count": 59,
   "id": "b100f95e",
   "metadata": {},
   "outputs": [],
   "source": [
    "predictions = model.predict(res)"
   ]
  },
  {
   "cell_type": "code",
   "execution_count": 60,
   "id": "35ea46b0",
   "metadata": {},
   "outputs": [],
   "source": [
    "result = []\n",
    "tags_map_dict_rev = {v: k for k, v in tags_map_dict.items()}\n",
    "\n",
    "for i, val in enumerate(predictions[0]):\n",
    "    result.append([tags_map_dict_rev[i],val])\n",
    "    \n",
    "result.sort(key = lambda x : x[1], reverse = True)"
   ]
  },
  {
   "cell_type": "code",
   "execution_count": 61,
   "id": "0031b27a",
   "metadata": {},
   "outputs": [
    {
     "name": "stdout",
     "output_type": "stream",
     "text": [
      "[['romantic', 0.93138224], ['flashback', 0.47419685], ['thought', 0.46209967], ['psychedelic', 0.46065032], ['inspiring', 0.4037679], ['action', 0.3179237], ['sentimental', 0.30676913], ['fi', 0.29237133], ['sci', 0.2302806], ['comedy', 0.20458792], ['provoking', 0.18124522], ['good', 0.16359851], ['suspenseful', 0.14851458], ['philosophical', 0.11208865], ['alternate', 0.09132154], ['humor', 0.06940143], ['psychological', 0.06272873], ['cult', 0.061184183], ['boring', 0.059867572], ['murder', 0.057110373], ['mystery', 0.05593925], ['atmospheric', 0.055339824], ['stupid', 0.037446078], ['depressing', 0.031865645], ['melodrama', 0.031862512], ['versus', 0.030456202], ['paranormal', 0.03008763], ['dark', 0.027181251], ['satire', 0.026669947], ['entertaining', 0.026386952], ['evil', 0.026339738], ['tragedy', 0.023597157], ['realism', 0.023315806], ['absurd', 0.022333479], ['historical', 0.021484135], ['violence', 0.02007299], ['revenge', 0.016699912], ['history', 0.01624067], ['fantasy', 0.014948194], ['whimsical', 0.010716746], ['neo', 0.009500999], ['claustrophobic', 0.009232189], ['garde', 0.008677278], ['intrigue', 0.0075216186], ['cute', 0.0071682096], ['storytelling', 0.0065267463], ['dramatic', 0.0064419475], ['insanity', 0.0061366847], ['magical', 0.005969226], ['allegory', 0.0055580074], ['feel', 0.004458034], ['reality', 0.004439024], ['plot', 0.003812429], ['haunting', 0.0036885801], ['cruelty', 0.0036812327], ['comic', 0.0034398409], ['queer', 0.0030358168], ['gothic', 0.0027852592], ['noir', 0.0027036332], ['bleak', 0.0026781147], ['horror', 0.002609749], ['movie', 0.002571471], ['twist', 0.0024645904], ['anti', 0.0022740015], ['clever', 0.002271145], ['suicidal', 0.0022552363], ['brainwashing', 0.0022441659], ['avant', 0.0018763507], ['adult', 0.0016721563], ['pornographic', 0.0016716023], ['western', 0.0010464899], ['home', 0.00096359104], ['prank', 0.0009602231], ['fiction', 0.0009442839], ['autobiographical', 0.0008738709], ['christian', 0.0006170839], ['sadist', 0.0005789227], ['war', 0.0005152986], ['non', 0.0005106318], ['film', 0.00047788274], ['blaxploitation', 0.00032274312], ['grindhouse', 0.00021185928], ['tags', 2.3816037e-07], ['', 1.0361729e-07]]\n"
     ]
    }
   ],
   "source": [
    "print(result)"
   ]
  },
  {
   "cell_type": "code",
   "execution_count": null,
   "id": "f2f7327f",
   "metadata": {},
   "outputs": [],
   "source": []
  },
  {
   "cell_type": "code",
   "execution_count": null,
   "id": "a1269e9d",
   "metadata": {},
   "outputs": [],
   "source": []
  },
  {
   "cell_type": "code",
   "execution_count": null,
   "id": "4eb24079",
   "metadata": {},
   "outputs": [],
   "source": []
  },
  {
   "cell_type": "code",
   "execution_count": null,
   "id": "04573c4f",
   "metadata": {},
   "outputs": [],
   "source": []
  },
  {
   "cell_type": "code",
   "execution_count": null,
   "id": "b36d885a",
   "metadata": {},
   "outputs": [],
   "source": []
  },
  {
   "cell_type": "code",
   "execution_count": null,
   "id": "b71d7721",
   "metadata": {},
   "outputs": [],
   "source": []
  },
  {
   "cell_type": "code",
   "execution_count": null,
   "id": "2c529fb7",
   "metadata": {},
   "outputs": [],
   "source": []
  },
  {
   "cell_type": "code",
   "execution_count": null,
   "id": "c56dbe2f",
   "metadata": {},
   "outputs": [],
   "source": []
  },
  {
   "cell_type": "code",
   "execution_count": null,
   "id": "bf3e049c",
   "metadata": {},
   "outputs": [],
   "source": []
  },
  {
   "cell_type": "code",
   "execution_count": null,
   "id": "1f66e8bd",
   "metadata": {},
   "outputs": [],
   "source": []
  },
  {
   "cell_type": "code",
   "execution_count": null,
   "id": "36e7dfe4",
   "metadata": {},
   "outputs": [],
   "source": []
  },
  {
   "cell_type": "code",
   "execution_count": null,
   "id": "16b0f724",
   "metadata": {},
   "outputs": [],
   "source": []
  },
  {
   "cell_type": "code",
   "execution_count": null,
   "id": "961fcb3d",
   "metadata": {},
   "outputs": [],
   "source": []
  },
  {
   "cell_type": "code",
   "execution_count": null,
   "id": "cc95a5b2",
   "metadata": {},
   "outputs": [],
   "source": []
  },
  {
   "cell_type": "code",
   "execution_count": null,
   "id": "483b9a18",
   "metadata": {},
   "outputs": [],
   "source": []
  },
  {
   "cell_type": "code",
   "execution_count": null,
   "id": "abbc1e2a",
   "metadata": {},
   "outputs": [],
   "source": []
  },
  {
   "cell_type": "code",
   "execution_count": null,
   "id": "d282769c",
   "metadata": {},
   "outputs": [],
   "source": []
  },
  {
   "cell_type": "code",
   "execution_count": null,
   "id": "2c68ac0e",
   "metadata": {},
   "outputs": [],
   "source": []
  },
  {
   "cell_type": "code",
   "execution_count": null,
   "id": "82feaad7",
   "metadata": {},
   "outputs": [],
   "source": []
  },
  {
   "cell_type": "code",
   "execution_count": null,
   "id": "f9c4bb9d",
   "metadata": {},
   "outputs": [],
   "source": []
  },
  {
   "cell_type": "code",
   "execution_count": null,
   "id": "76b40dff",
   "metadata": {},
   "outputs": [],
   "source": []
  },
  {
   "cell_type": "code",
   "execution_count": null,
   "id": "e4f190a5",
   "metadata": {},
   "outputs": [],
   "source": []
  },
  {
   "cell_type": "code",
   "execution_count": null,
   "id": "0326ad32",
   "metadata": {},
   "outputs": [],
   "source": []
  },
  {
   "cell_type": "code",
   "execution_count": null,
   "id": "89dcfbf8",
   "metadata": {},
   "outputs": [],
   "source": []
  },
  {
   "cell_type": "code",
   "execution_count": null,
   "id": "570ad310",
   "metadata": {},
   "outputs": [],
   "source": []
  },
  {
   "cell_type": "code",
   "execution_count": null,
   "id": "428a2816",
   "metadata": {},
   "outputs": [],
   "source": []
  },
  {
   "cell_type": "code",
   "execution_count": null,
   "id": "716da7f9",
   "metadata": {},
   "outputs": [],
   "source": []
  },
  {
   "cell_type": "code",
   "execution_count": null,
   "id": "7077c8d5",
   "metadata": {},
   "outputs": [],
   "source": []
  },
  {
   "cell_type": "code",
   "execution_count": null,
   "id": "6dc75fdd",
   "metadata": {},
   "outputs": [],
   "source": []
  },
  {
   "cell_type": "code",
   "execution_count": null,
   "id": "913d4c4a",
   "metadata": {},
   "outputs": [],
   "source": []
  },
  {
   "cell_type": "code",
   "execution_count": null,
   "id": "3e752b53",
   "metadata": {},
   "outputs": [],
   "source": []
  },
  {
   "cell_type": "code",
   "execution_count": null,
   "id": "56265f3a",
   "metadata": {},
   "outputs": [],
   "source": []
  },
  {
   "cell_type": "code",
   "execution_count": null,
   "id": "04ac62e4",
   "metadata": {},
   "outputs": [],
   "source": []
  },
  {
   "cell_type": "code",
   "execution_count": null,
   "id": "82acb082",
   "metadata": {},
   "outputs": [],
   "source": []
  },
  {
   "cell_type": "code",
   "execution_count": null,
   "id": "835f691c",
   "metadata": {},
   "outputs": [],
   "source": []
  },
  {
   "cell_type": "code",
   "execution_count": null,
   "id": "94131b5d",
   "metadata": {},
   "outputs": [],
   "source": []
  },
  {
   "cell_type": "code",
   "execution_count": null,
   "id": "9841ef1d",
   "metadata": {},
   "outputs": [],
   "source": []
  },
  {
   "cell_type": "code",
   "execution_count": null,
   "id": "a01c7568",
   "metadata": {},
   "outputs": [],
   "source": [
    "\n"
   ]
  }
 ],
 "metadata": {
  "kernelspec": {
   "display_name": "aigo",
   "language": "python",
   "name": "aigo"
  },
  "language_info": {
   "codemirror_mode": {
    "name": "ipython",
    "version": 3
   },
   "file_extension": ".py",
   "mimetype": "text/x-python",
   "name": "python",
   "nbconvert_exporter": "python",
   "pygments_lexer": "ipython3",
   "version": "3.8.18"
  }
 },
 "nbformat": 4,
 "nbformat_minor": 5
}
